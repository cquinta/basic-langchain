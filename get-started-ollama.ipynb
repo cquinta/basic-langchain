{
 "cells": [
  {
   "cell_type": "markdown",
   "metadata": {},
   "source": [
    "# Get Started\n",
    "## Inicializando o LLM\n",
    "Testando com o LLM local, Ollama. É necessário ter o Ollama rodando com o modelo llama2\n"
   ]
  },
  {
   "cell_type": "code",
   "execution_count": 2,
   "metadata": {},
   "outputs": [],
   "source": [
    "from langchain_community.llms import Ollama\n",
    "llm = Ollama(model=\"llama2\")"
   ]
  },
  {
   "cell_type": "markdown",
   "metadata": {},
   "source": [
    "## Invocando o LLM "
   ]
  },
  {
   "cell_type": "code",
   "execution_count": 3,
   "metadata": {},
   "outputs": [
    {
     "data": {
      "text/plain": [
       "'\\nLangsmith is a tool that can help with testing by providing a way to generate test cases and execute them automatically. Here are some ways in which Langsmith can help with testing:\\n\\n1. Automated Testing: Langsmith can be used to automate the testing process, reducing the time and effort required to write and run tests. It can generate test cases based on the code structure and functionality, allowing developers to focus on other tasks.\\n2. Code Coverage Analysis: Langsmith can analyze the test coverage of a codebase, identifying areas that are not well-tested or have low test coverage. This helps developers identify areas that need more testing attention.\\n3. Test Prioritization: Langsmith can prioritize tests based on risk and complexity, helping developers focus their testing efforts on the most critical areas of the codebase.\\n4. Test Data Generation: Langsmith can generate test data automatically, reducing the time and effort required to create test data manually. This can be particularly useful for testing complex systems with large amounts of data.\\n5. Test Case Design: Langsmith can help design test cases based on the code structure and functionality, making sure that tests are comprehensive and cover all aspects of the system.\\n6. Test Execution: Langsmith can execute tests automatically, saving developers time and effort. It can also provide detailed results and analysis of test execution, helping developers identify issues and improve testing efficiency.\\n7. Integration Testing: Langsmith can help with integration testing by generating test cases that cover the interactions between different components of a system. This helps ensure that the system functions as expected when integrated.\\n8. Regression Testing: Langsmith can assist with regression testing by identifying changes in the code and generating new test cases to ensure that changes have not introduced new bugs or affected existing functionality.\\n9. Security Testing: Langsmith can help with security testing by generating test cases that cover potential security vulnerabilities in a system. This helps identify potential security risks and ensure that the system is secure.\\n10. Continuous Integration/Continuous Deployment (CI/CD): Langsmith can integrate with CI/CD pipelines to provide automated testing, allowing developers to quickly identify and fix issues before they reach production.\\n\\nBy using Langsmith for testing, developers can save time and effort, improve test coverage and accuracy, and ensure that their code is reliable and secure.'"
      ]
     },
     "execution_count": 3,
     "metadata": {},
     "output_type": "execute_result"
    }
   ],
   "source": [
    "llm.invoke(\"how can langsmith help with testing?\")"
   ]
  },
  {
   "cell_type": "markdown",
   "metadata": {},
   "source": [
    "## Adicionando um prompt"
   ]
  },
  {
   "cell_type": "code",
   "execution_count": 4,
   "metadata": {},
   "outputs": [],
   "source": [
    "from langchain_core.prompts import ChatPromptTemplate\n",
    "prompt = ChatPromptTemplate.from_messages([\n",
    "    (\"system\", \"You are a world class technical documentation writer.\"),\n",
    "    (\"user\", \"{input}\")\n",
    "])"
   ]
  },
  {
   "cell_type": "markdown",
   "metadata": {},
   "source": [
    "## Combinando o prompt no LLM "
   ]
  },
  {
   "cell_type": "code",
   "execution_count": 5,
   "metadata": {},
   "outputs": [],
   "source": [
    "chain = prompt | llm "
   ]
  },
  {
   "cell_type": "markdown",
   "metadata": {},
   "source": [
    "## Invocando o modelo através da chain"
   ]
  },
  {
   "cell_type": "code",
   "execution_count": 6,
   "metadata": {},
   "outputs": [
    {
     "data": {
      "text/plain": [
       "\"\\nAs a world-class technical documentation writer, I must say that Langsmith is a powerful tool that can greatly benefit the testing process in several ways. Here are some of the ways Langsmith can help with testing:\\n\\n1. Automated Testing: Langsmith's AI-powered language model can be used to automate the testing process by generating test cases based on the documentation. This can save time and resources, as well as reduce the likelihood of human error.\\n2. Test Case Generation: Langsmith can generate test cases based on the documentation, which can help ensure that all possible scenarios are covered. This can improve test coverage and reduce the risk of missing important test cases.\\n3. Defect Detection: Langsmith's AI-powered language model can analyze the documentation and identify potential defects or issues. This can help developers fix problems early in the development cycle, reducing the likelihood of critical errors making it to production.\\n4. Test Data Generation: Langsmith can generate test data based on the documentation, which can be used to simulate real-world scenarios and test the system's behavior under different conditions.\\n5. Documentation Analysis: Langsmith can analyze the technical documentation and identify patterns or inconsistencies that could indicate potential problems. This can help developers identify and fix issues early in the development cycle.\\n6. Knowledge Transfer: Langsmith can assist in transferring knowledge from one project to another by analyzing the documentation of a completed project and generating insights that can be applied to a new project.\\n7. Compliance Checking: Langsmith can analyze the technical documentation to ensure compliance with regulatory requirements, such as HIPAA or GDPR, by identifying potential risks and providing recommendations for mitigation.\\n\\nOverall, Langsmith can greatly benefit the testing process by automating repetitive tasks, improving test coverage, detecting defects early, generating test data, analyzing documentation, transferring knowledge, and ensuring compliance with regulatory requirements. As a world-class technical documentation writer, I highly recommend leveraging Langsmith's capabilities to improve the testing process.\""
      ]
     },
     "execution_count": 6,
     "metadata": {},
     "output_type": "execute_result"
    }
   ],
   "source": [
    "chain.invoke({\"input\": \"how can langsmith help with testing?\"})"
   ]
  },
  {
   "cell_type": "markdown",
   "metadata": {},
   "source": [
    "## Incluindo um parser na chain"
   ]
  },
  {
   "cell_type": "code",
   "execution_count": 7,
   "metadata": {},
   "outputs": [
    {
     "data": {
      "text/plain": [
       "\"\\nAs a world-class technical documentation writer, I must say that Langsmith is a versatile tool that can greatly assist in the testing process. Here are some ways Langsmith can help:\\n\\n1. Automated Testing: Langsmith's natural language processing (NLP) capabilities allow it to generate test cases based on the documentation it has been trained on. This means that Langsmith can automatically create test cases for functionalities described in the documentation, saving time and effort compared to manual testing.\\n2. Test Data Generation: Langsmith can also generate test data based on the documentation, which can be used to test the system's functionality. For example, if a technical document describes a feature that takes a user input, Langsmith can generate test cases with different inputs to verify its functionality.\\n3. Test Case Prioritization: With Langsmith's ability to analyze and understand the documentation, it can prioritize test cases based on their importance and risk level. This ensures that critical tests are run first, reducing the overall testing time and effort.\\n4. Defect Reporting: Langsmith can automatically identify defects or issues in the system based on its analysis of the documentation. It can then generate reports with detailed information about each defect, including steps to reproduce and expected results.\\n5. Documentation Refreshment: Finally, Langsmith can help refresh technical documents periodically by updating them with the latest information. This ensures that the documentation remains accurate and up-to-date, which is crucial for effective testing.\\n\\nIn conclusion, Langsmith's AI-powered capabilities can significantly improve the testing process by automating tasks such as test case generation, prioritization, defect reporting, and documentation refreshment. By leveraging these capabilities, developers and testers can save time and effort while ensuring that the system is thoroughly tested and meets the required quality standards.\""
      ]
     },
     "execution_count": 7,
     "metadata": {},
     "output_type": "execute_result"
    }
   ],
   "source": [
    "from langchain_core.output_parsers import StrOutputParser\n",
    "\n",
    "output_parser = StrOutputParser()\n",
    "\n",
    "chain = prompt | llm | output_parser\n",
    "\n",
    "chain.invoke({\"input\": \"how can langsmith help with testing?\"})"
   ]
  },
  {
   "cell_type": "markdown",
   "metadata": {},
   "source": [
    "## Fazendo o download do conteúdo para o contexto"
   ]
  },
  {
   "cell_type": "code",
   "execution_count": 8,
   "metadata": {},
   "outputs": [],
   "source": [
    "from langchain_community.document_loaders import WebBaseLoader\n",
    "loader = WebBaseLoader(\"https://docs.smith.langchain.com/user_guide\")\n",
    "\n",
    "docs = loader.load()"
   ]
  },
  {
   "cell_type": "markdown",
   "metadata": {},
   "source": [
    "## Inicializando o Embeddings "
   ]
  },
  {
   "cell_type": "code",
   "execution_count": 9,
   "metadata": {},
   "outputs": [],
   "source": [
    "from langchain_community.embeddings import OllamaEmbeddings\n",
    "\n",
    "embeddings = OllamaEmbeddings()"
   ]
  },
  {
   "cell_type": "markdown",
   "metadata": {},
   "source": [
    "## Construindo os índices com o Faiss"
   ]
  },
  {
   "cell_type": "code",
   "execution_count": 10,
   "metadata": {},
   "outputs": [],
   "source": [
    "from langchain_community.vectorstores import FAISS\n",
    "from langchain_text_splitters import RecursiveCharacterTextSplitter\n",
    "\n",
    "\n",
    "text_splitter = RecursiveCharacterTextSplitter()\n",
    "documents = text_splitter.split_documents(docs)\n",
    "vector = FAISS.from_documents(documents, embeddings)"
   ]
  },
  {
   "cell_type": "markdown",
   "metadata": {},
   "source": [
    "## Remontando a chain para utilizar o contexto"
   ]
  },
  {
   "cell_type": "code",
   "execution_count": 11,
   "metadata": {},
   "outputs": [],
   "source": [
    "from langchain.chains.combine_documents import create_stuff_documents_chain\n",
    "\n",
    "prompt = ChatPromptTemplate.from_template(\"\"\"Answer the following question based only on the provided context:\n",
    "\n",
    "<context>\n",
    "{context}\n",
    "</context>\n",
    "\n",
    "Question: {input}\"\"\")\n",
    "\n",
    "document_chain = create_stuff_documents_chain(llm, prompt)"
   ]
  },
  {
   "cell_type": "markdown",
   "metadata": {},
   "source": [
    "## Criando um Retriver"
   ]
  },
  {
   "cell_type": "code",
   "execution_count": 12,
   "metadata": {},
   "outputs": [],
   "source": [
    "from langchain.chains import create_retrieval_chain\n",
    "\n",
    "retriever = vector.as_retriever()\n",
    "retrieval_chain = create_retrieval_chain(retriever, document_chain)"
   ]
  },
  {
   "cell_type": "markdown",
   "metadata": {},
   "source": [
    "## Invocando o modelo com o retrieval"
   ]
  },
  {
   "cell_type": "code",
   "execution_count": 13,
   "metadata": {},
   "outputs": [
    {
     "name": "stdout",
     "output_type": "stream",
     "text": [
      "\n",
      "Based on the provided context, LangSmith can help with testing in several ways:\n",
      "\n",
      "1. Creating test cases: LangSmith allows developers to create datasets, which are collections of inputs and reference outputs, and use these to run tests on their LLM applications.\n",
      "2. Annotating traces: LangSmith supports sending runs to annotation queues, which allow annotators to closely inspect interesting traces and annotate them with respect to different criteria.\n",
      "3. Automations: LangSmith provides automations that allow users to perform actions on traces in near real-time, such as scoring traces or sending them to datasets.\n",
      "4. Monitoring and A/B testing: LangSmith provides monitoring charts that allow users to track key metrics over time, and the ability to mark different versions of their applications with different identifiers and view how they are performing side-by-side within each chart.\n",
      "5. Debugging: LangSmith gives clear visibility and debugging information at each step of an LLM sequence, making it easier to identify and root-cause issues when things go wrong.\n"
     ]
    }
   ],
   "source": [
    "response = retrieval_chain.invoke({\"input\": \"how can langsmith help with testing?\"})\n",
    "print(response[\"answer\"])\n",
    "\n",
    "# LangSmith offers several features that can help with testing:..."
   ]
  }
 ],
 "metadata": {
  "kernelspec": {
   "display_name": ".venv",
   "language": "python",
   "name": "python3"
  },
  "language_info": {
   "codemirror_mode": {
    "name": "ipython",
    "version": 3
   },
   "file_extension": ".py",
   "mimetype": "text/x-python",
   "name": "python",
   "nbconvert_exporter": "python",
   "pygments_lexer": "ipython3",
   "version": "3.10.12"
  }
 },
 "nbformat": 4,
 "nbformat_minor": 2
}
